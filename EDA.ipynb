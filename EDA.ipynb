{
 "cells": [
  {
   "cell_type": "markdown",
   "metadata": {},
   "source": [
    "# Exploratory data analysis \n",
    "\n",
    "Let's dive into harvested data from dadjokes subreddit to understand it better and prepare for RAG"
   ]
  },
  {
   "cell_type": "code",
   "execution_count": null,
   "metadata": {},
   "outputs": [],
   "source": [
    "# Libraries\n",
    "import pandas as pd\n",
    "import numpy as np\n",
    "import re"
   ]
  },
  {
   "cell_type": "code",
   "execution_count": null,
   "metadata": {},
   "outputs": [],
   "source": [
    "data = pd.read_csv(r'dadjokes_partial_data.csv')\n",
    "df = data.copy()\n",
    "\n",
    "df.head(20)"
   ]
  },
  {
   "cell_type": "code",
   "execution_count": null,
   "metadata": {},
   "outputs": [],
   "source": [
    "df.info()"
   ]
  },
  {
   "cell_type": "code",
   "execution_count": null,
   "metadata": {},
   "outputs": [],
   "source": [
    "df.nunique()"
   ]
  },
  {
   "cell_type": "code",
   "execution_count": null,
   "metadata": {},
   "outputs": [],
   "source": [
    "df.isnull().sum().T"
   ]
  },
  {
   "cell_type": "markdown",
   "metadata": {},
   "source": [
    "# Jokes as a construct: Title + Selftext"
   ]
  },
  {
   "cell_type": "markdown",
   "metadata": {},
   "source": [
    "## Focus: Title"
   ]
  },
  {
   "cell_type": "code",
   "execution_count": null,
   "metadata": {},
   "outputs": [],
   "source": [
    "# find duplicate titles and their number\n",
    "duplicates_title = df[df.duplicated(subset=[\"title\"], keep=False)]\n",
    "print(\"Number of duplicate titles: \", len(duplicates_title))\n",
    "print(duplicates_title)"
   ]
  },
  {
   "cell_type": "code",
   "execution_count": null,
   "metadata": {},
   "outputs": [],
   "source": [
    "# remove duplicate titles\n",
    "df_unique = df.drop_duplicates(subset=[\"title\"], keep=\"first\")\n",
    "print(df_unique)"
   ]
  },
  {
   "cell_type": "code",
   "execution_count": null,
   "metadata": {},
   "outputs": [],
   "source": [
    "# drop nan titles\n",
    "df_unique = df_unique.dropna(subset=['title'])\n",
    "print(df_unique)"
   ]
  },
  {
   "cell_type": "code",
   "execution_count": null,
   "metadata": {},
   "outputs": [],
   "source": [
    "df_clean = df_unique"
   ]
  },
  {
   "cell_type": "markdown",
   "metadata": {},
   "source": [
    "## Focus: Selftext"
   ]
  },
  {
   "cell_type": "markdown",
   "metadata": {},
   "source": [
    "Construct of the dadjoke is (title + selftext) or only title"
   ]
  },
  {
   "cell_type": "code",
   "execution_count": null,
   "metadata": {},
   "outputs": [],
   "source": [
    "# find duplicate selftexts and their number\n",
    "duplicates_selftext = df_clean[df_clean.duplicated(subset=[\"selftext\"], keep=False)]\n",
    "print(\"Number of duplicate selftext: \", len(duplicates_selftext))\n",
    "duplicates_selftext.head(20)"
   ]
  },
  {
   "cell_type": "markdown",
   "metadata": {},
   "source": [
    "## Focus: Joke Recipe"
   ]
  },
  {
   "cell_type": "code",
   "execution_count": null,
   "metadata": {},
   "outputs": [],
   "source": [
    "# concatenation with fillna and stripping extra whitespace\n",
    "df_clean['dadjoke'] = (df_clean['title'].fillna('') + \" \" + df_clean['selftext'].fillna('')).str.strip()\n",
    "df_clean\n",
    "\n",
    "# create new dataframe only with merged column of dadjokes\n",
    "df_merged = df_clean.drop(columns=['title', 'selftext'])\n",
    "df_merged\n"
   ]
  },
  {
   "cell_type": "code",
   "execution_count": null,
   "metadata": {},
   "outputs": [],
   "source": [
    "# double check for duplicates\n",
    "duplicates_dadjoke = df_merged[df_merged.duplicated(subset=[\"dadjoke\"], keep=False)]\n",
    "print(duplicates_dadjoke)"
   ]
  },
  {
   "cell_type": "code",
   "execution_count": null,
   "metadata": {},
   "outputs": [],
   "source": [
    "# create a new column that is True if a URL is found in the summary, else False.\n",
    "df_merged['contains_link'] = df_merged['dadjoke'].apply(lambda x: bool(re.search(r'https?://\\S+', x)) if pd.notnull(x) else False)\n",
    "\n",
    "# Print rows that contain links\n",
    "print(df_merged[df_merged['contains_link']].count())\n",
    "df_merged.head(5)\n"
   ]
  },
  {
   "cell_type": "code",
   "execution_count": null,
   "metadata": {},
   "outputs": [],
   "source": [
    "# drop all dadjokes containing links\n",
    "df_merged = df_merged[df_merged['contains_link'] == False]\n",
    "print(df_merged)\n"
   ]
  },
  {
   "cell_type": "code",
   "execution_count": null,
   "metadata": {},
   "outputs": [],
   "source": [
    "inappropriate_words = ['removed', 'deleted', 'sex', 'dick', 'penis', 'fuck', 'ass', 'vagina', 'butt']\n",
    "\n",
    "# regex pattern that matches any of these words as whole words (case-insensitive)\n",
    "pattern = r'\\b(?:' + '|'.join(inappropriate_words) + r')\\b'\n",
    "\n",
    "# a new column that is True if the summary contains any inappropriate words\n",
    "df_merged['contains_inappropriate'] = df_merged['dadjoke'].str.contains(pattern, flags=re.IGNORECASE, na=False)\n",
    "\n",
    "# Print the rows where inappropriate words were found\n",
    "print(len(df_merged[df_merged['contains_inappropriate']]))\n",
    "print(df_merged[df_merged['contains_inappropriate']])\n"
   ]
  },
  {
   "cell_type": "code",
   "execution_count": null,
   "metadata": {},
   "outputs": [],
   "source": [
    "# drop all dadjokes containing inappropriate words and removed, deleted\n",
    "df_merged = df_merged[df_merged['contains_inappropriate'] == False]\n",
    "print(df_merged)"
   ]
  },
  {
   "cell_type": "code",
   "execution_count": null,
   "metadata": {},
   "outputs": [],
   "source": [
    "dF_clean = df_merged[['dadjoke']]"
   ]
  },
  {
   "cell_type": "code",
   "execution_count": null,
   "metadata": {},
   "outputs": [],
   "source": [
    "# Save the DataFrame as csv\n",
    "output_path = \"cleaned_dadjokes.csv\"\n",
    "df_clean.to_csv(output_path)\n"
   ]
  }
 ],
 "metadata": {
  "kernelspec": {
   "display_name": "chatbot-venv",
   "language": "python",
   "name": "python3"
  },
  "language_info": {
   "codemirror_mode": {
    "name": "ipython",
    "version": 3
   },
   "file_extension": ".py",
   "mimetype": "text/x-python",
   "name": "python",
   "nbconvert_exporter": "python",
   "pygments_lexer": "ipython3",
   "version": "3.11.9"
  }
 },
 "nbformat": 4,
 "nbformat_minor": 2
}
